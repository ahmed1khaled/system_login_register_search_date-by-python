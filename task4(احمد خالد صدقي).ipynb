{
 "cells": [
  {
   "cell_type": "code",
   "execution_count": 59,
   "id": "51c737c0",
   "metadata": {},
   "outputs": [
    {
     "name": "stdout",
     "output_type": "stream",
     "text": [
      "pleas enter your email: ragfxg,com\n",
      "pleas enter your email: ak44100@gmail.com\n",
      "ak44100@gmail.com\n"
     ]
    }
   ],
   "source": [
    "def check_email():\n",
    "    import re\n",
    "    \n",
    "    email=str(input(\"pleas enter your email: \"))\n",
    "    regex = r'\\b[A-Za-z0-9._%+-]+@[A-Za-z0-9.-]+\\.[A-Z|a-z]{2,}\\b'\n",
    "    \n",
    "    if(re.fullmatch(regex, email)):\n",
    "        \n",
    "        return email\n",
    "    else:\n",
    "        return check_email()\n",
    "email=check_email()\n",
    "print(email)"
   ]
  },
  {
   "cell_type": "code",
   "execution_count": 55,
   "id": "8c919dc5",
   "metadata": {},
   "outputs": [
    {
     "name": "stdout",
     "output_type": "stream",
     "text": [
      "pleas enter your password: ajss\n",
      "Please Enter re_password: ajla\n",
      "pleas enter your password: asd\n",
      "Please Enter re_password: asd\n",
      "asd\n"
     ]
    }
   ],
   "source": [
    "def Confirm_password():\n",
    "    pas=str(input(\"pleas enter your password: \"))\n",
    "    re_pas =str(input(\"Please Enter re_password: \"))\n",
    "    if pas==re_pas:\n",
    "        return pas\n",
    "    else:\n",
    "        return Confirm_password()\n",
    "        \n",
    "    \n",
    "password=Confirm_password() \n",
    "print(password)    "
   ]
  },
  {
   "cell_type": "code",
   "execution_count": 56,
   "id": "80c21ff2",
   "metadata": {},
   "outputs": [
    {
     "name": "stdout",
     "output_type": "stream",
     "text": [
      "please enter your phone : 2+161651\n",
      "please enter your phone : 01125515\n",
      "please enter your phone : 01523476915\n"
     ]
    },
    {
     "data": {
      "text/plain": [
       "'01523476915'"
      ]
     },
     "execution_count": 56,
     "metadata": {},
     "output_type": "execute_result"
    }
   ],
   "source": [
    "def check_num():\n",
    "    num=input(\"please enter your phone : \")\n",
    "    x = num.isnumeric()\n",
    "    if x==True:\n",
    "        n=list(num)\n",
    "        if (n[:3]==['0','1','1']or n[:3]==['0','1','0']or n[:3]==['0','1','2']or n[:3]==['0','1','5']) and (len(n)==11):\n",
    "            return num\n",
    "        else:\n",
    "            return check_num()\n",
    "    else:\n",
    "        return check_num()\n",
    "        \n",
    "number=check_num()\n",
    "number"
   ]
  },
  {
   "cell_type": "code",
   "execution_count": 68,
   "id": "542bbaf8",
   "metadata": {},
   "outputs": [
    {
     "name": "stdout",
     "output_type": "stream",
     "text": [
      "Please Enter frist-name: omar\n",
      "Please Enter last-name: khaled\n",
      "pleas enter your password: jha\n",
      "Please Enter re_password: as\n",
      "pleas enter your password: omer123\n",
      "Please Enter re_password: omer123\n",
      "pleas enter your email: aeccm.cmci\n",
      "pleas enter your email: omer100@gmail.com\n",
      "please enter your phone : 565161\n",
      "please enter your phone : 0116561\n",
      "please enter your phone : 012845\n",
      "please enter your phone : 01248675943\n"
     ]
    }
   ],
   "source": [
    "def register():\n",
    "    f_name = input(\"Please Enter frist-name: \")\n",
    "    l_name = input(\"Please Enter last-name: \")\n",
    "    password=Confirm_password()\n",
    "    email=check_email()\n",
    "    phone=check_num()\n",
    "    file = open(\"my1_file.txt\", \"a\")\n",
    "    file.write(f\"{f_name},{l_name},{password},{email},{phone}\")\n",
    "    file.write('\\n')\n",
    "    file.close()\n",
    "register()"
   ]
  },
  {
   "cell_type": "code",
   "execution_count": 69,
   "id": "2b3ad9e5",
   "metadata": {},
   "outputs": [
    {
     "name": "stdout",
     "output_type": "stream",
     "text": [
      "ahmed,khaled,ahmed123,ak40@gmail.com,01516478085\n",
      "mohamed,ali,ali123,ali44@gmail.com,01153473640\n",
      "omar,khaled,omer123,omer100@gmail.com,01248675943\n",
      "\n"
     ]
    }
   ],
   "source": [
    "file = open(\"my1_file.txt\", \"r\")\n",
    "ss=file.read()\n",
    "print(ss)"
   ]
  },
  {
   "cell_type": "code",
   "execution_count": 107,
   "id": "1279c42c",
   "metadata": {},
   "outputs": [
    {
     "name": "stdout",
     "output_type": "stream",
     "text": [
      "Please Enter email: ali44@gmail.com\n",
      "Please Enter password: ali123\n",
      "you can creat prject\n",
      "Please Enter Title: organisation\n",
      "Please Enter Details: Fundraising for the poor\n",
      "Please Enter Total_target: 60000\n",
      "Please Enter start date format year-monthe-day : 2023-1-10\n",
      "Please Enter end date format year-monthe-day : 2023-10-10\n"
     ]
    }
   ],
   "source": [
    "def login():\n",
    "    email = input(\"Please Enter email: \")\n",
    "    password = input(\"Please Enter password: \")\n",
    "    file = open('my1_file.txt', 'r')\n",
    "    lines = file.readlines()\n",
    "    file.close()\n",
    "\n",
    "    flag = False\n",
    "    for eachLine in lines:\n",
    "        entry = eachLine.split(',')\n",
    "        if entry[3] == email and entry[2] == password:\n",
    "            flag = True\n",
    "            break\n",
    "   \n",
    "\n",
    "\n",
    "    if flag==True:\n",
    "        print(\"you can creat prject\")\n",
    "        Title = str(input(\"Please Enter Title: \"))\n",
    "        Details=str(input(\"Please Enter Details: \"))\n",
    "        Total_target=str(input(\"Please Enter Total_target: \"))\n",
    "        s_date=str(input(\"Please Enter start date format year-monthe-day : \"))\n",
    "        e_date=str(input(\"Please Enter end date format year-monthe-day : \"))\n",
    "        file = open(\"my1_projects.txt\", \"a\")\n",
    "        file.write(f\"{Title},{Details},{Total_target},{s_date},{e_date}\")\n",
    "        file.write('\\n')\n",
    "        file.close()\n",
    "    \n",
    "    else:\n",
    "        print(\"eror in login\")\n",
    "login()"
   ]
  },
  {
   "cell_type": "code",
   "execution_count": 77,
   "id": "fff9f880",
   "metadata": {},
   "outputs": [
    {
     "name": "stdout",
     "output_type": "stream",
     "text": [
      "school,A place for kids to learn for free,200000,2022-7-17,2022-11-17\n",
      "pharmacy,Helping sick people,50000,2022-7-20,2022-10-15\n",
      "\n"
     ]
    }
   ],
   "source": [
    "file = open(\"my1_projects.txt\", \"r\")\n",
    "ss=file.read()\n",
    "print(ss)"
   ]
  },
  {
   "cell_type": "code",
   "execution_count": 111,
   "id": "2d8a6e7f",
   "metadata": {},
   "outputs": [
    {
     "name": "stdout",
     "output_type": "stream",
     "text": [
      "Please Enter start date format year-monthe-day : 2022-7-17\n",
      "the prject is school,A place for kids to learn for free,200000,2022-7-17,2022-11-17\n",
      "\n"
     ]
    }
   ],
   "source": [
    "def search_date():\n",
    "    ss_date=str(input(\"Please Enter start date format year-monthe-day : \"))\n",
    "    file = open('my1_projects.txt', 'r')\n",
    "    lines = file.readlines()\n",
    "    file.close()\n",
    "\n",
    "    flag = False\n",
    "    stor=''\n",
    "    for eachLine in lines:\n",
    "        entry = eachLine.split(',')\n",
    "        if entry[3] == ss_date :\n",
    "            flag = True\n",
    "            stor=eachLine\n",
    "            break\n",
    "    if flag == True:\n",
    "        print(f'the prject is {stor}')\n",
    "    else:\n",
    "        print('erorr in the date')\n",
    "\n",
    "search_date()"
   ]
  },
  {
   "cell_type": "code",
   "execution_count": 112,
   "id": "f3da9ee4",
   "metadata": {},
   "outputs": [
    {
     "name": "stdout",
     "output_type": "stream",
     "text": [
      "to register enter 1 /// to login enter 2 /// to search by start date enter 3\n",
      "enter what is you want : 3\n",
      "Please Enter start date format year-monthe-day : 2023-1-10\n",
      "the prject is organisation,Fundraising for the poor,60000,2023-1-10,2023-10-10\n",
      "\n"
     ]
    }
   ],
   "source": [
    "def task():\n",
    "    print('to register enter 1 /// to login enter 2 /// to search by start date enter 3')\n",
    "    num1=int(input(\"enter what is you want : \"))\n",
    "    #task1={1:register(),2:login(),3:search_date()}\n",
    "    #task1.get(n)\n",
    "    if num1==1:\n",
    "        register()\n",
    "    elif num1==2:\n",
    "        login()\n",
    "    elif num1==3:\n",
    "        search_date()\n",
    "task()"
   ]
  },
  {
   "cell_type": "code",
   "execution_count": null,
   "id": "e492add0",
   "metadata": {},
   "outputs": [],
   "source": []
  },
  {
   "cell_type": "code",
   "execution_count": null,
   "id": "6a9b3107",
   "metadata": {},
   "outputs": [],
   "source": []
  }
 ],
 "metadata": {
  "kernelspec": {
   "display_name": "Python 3",
   "language": "python",
   "name": "python3"
  },
  "language_info": {
   "codemirror_mode": {
    "name": "ipython",
    "version": 3
   },
   "file_extension": ".py",
   "mimetype": "text/x-python",
   "name": "python",
   "nbconvert_exporter": "python",
   "pygments_lexer": "ipython3",
   "version": "3.8.8"
  }
 },
 "nbformat": 4,
 "nbformat_minor": 5
}
